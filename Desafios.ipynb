{
  "nbformat": 4,
  "nbformat_minor": 0,
  "metadata": {
    "colab": {
      "name": "Desafios.ipynb",
      "provenance": []
    },
    "kernelspec": {
      "name": "python3",
      "display_name": "Python 3"
    },
    "language_info": {
      "name": "python"
    }
  },
  "cells": [
    {
      "cell_type": "code",
      "execution_count": null,
      "metadata": {
        "colab": {
          "base_uri": "https://localhost:8080/"
        },
        "id": "dcALVVZBCcpy",
        "outputId": "7530873e-35e7-4a38-dd21-1573533cf95e"
      },
      "outputs": [
        {
          "output_type": "stream",
          "name": "stdout",
          "text": [
            "10\n",
            "10\n",
            "MEDIA =  10.00000\n",
            "\n"
          ]
        }
      ],
      "source": [
        "a = float(input())\n",
        "b = float(input())\n",
        "\n",
        "#TODO: Complete os espaços em branco com as respectivas variáveis para o cálculo da média.\n",
        "media = ( a* 3.5 +  b* 7.5) / 11\n",
        "\n",
        "#TODO: Complete com a variável que representa o resultado da média.\n",
        "print(f'MEDIA = {media: .5f}\\n')"
      ]
    },
    {
      "cell_type": "code",
      "source": [
        "lados = [float(x) for x in input().split()]\n",
        "\n",
        "a = lados[0];\n",
        "b = lados[1];\n",
        "c = lados[2];\n",
        "\n",
        "if a + b > c and a + c > b and b + c > a:\n",
        "    #TODO Preencha a formula do perímeto do triangulo (soma de todos os lados).\n",
        "    perimetro=a+b+c\n",
        "    print(f\"Perimetro = {perimetro:.1f}\")\n",
        "else:\n",
        "    #TODO Preencha a formula da área do trapézio: AREA = ((A + B) x C) / 2\n",
        "    area = ((a + b) * c) / 2\n",
        "    print(f\"Area = {area:.1f}\")"
      ],
      "metadata": {
        "colab": {
          "base_uri": "https://localhost:8080/"
        },
        "id": "KcNuVaV9FFD4",
        "outputId": "834246be-16dc-4a3e-a946-bab8fad3235d"
      },
      "execution_count": null,
      "outputs": [
        {
          "output_type": "stream",
          "name": "stdout",
          "text": [
            "6.0 4.0 2.1\n",
            "Perimetro = 12.1\n"
          ]
        }
      ]
    },
    {
      "cell_type": "code",
      "source": [
        "segundos = int(input())\n",
        "\n",
        "minutos = int(segundos/60)\n",
        "segundos = int(segundos - (minutos * 60))\n",
        "horas = int(minutos/60)\n",
        "minutos = int(minutos - (horas * 60))\n",
        "\n",
        "print(\"{}:{}:{}\".format(horas, minutos, segundos))"
      ],
      "metadata": {
        "colab": {
          "base_uri": "https://localhost:8080/"
        },
        "id": "n1r09pCUJvcF",
        "outputId": "8d98a336-9593-4ce2-b14f-d2093ea7b1ed"
      },
      "execution_count": null,
      "outputs": [
        {
          "output_type": "stream",
          "name": "stdout",
          "text": [
            "1\n",
            "0:0:1\n"
          ]
        }
      ]
    },
    {
      "cell_type": "code",
      "source": [
        "#TODO: Complete os espaços em branco com uma solução possível para o problema.\n",
        "counter = 0\n",
        "for _ in range(6):\n",
        "    number = float(input())\n",
        "    if number > 0:\n",
        "      counter = counter + 1\n",
        "       \n",
        "print(\"{} valores positivos\".format(counter))"
      ],
      "metadata": {
        "colab": {
          "base_uri": "https://localhost:8080/"
        },
        "id": "dLpdQMlmBGWc",
        "outputId": "65ca515f-65a5-4c97-af0d-d0a3b04ba2f8"
      },
      "execution_count": null,
      "outputs": [
        {
          "output_type": "stream",
          "name": "stdout",
          "text": [
            "7\n",
            "-5\n",
            "6\n",
            "-3.4\n",
            "4.6\n",
            "12\n",
            "4 valores positivos\n"
          ]
        }
      ]
    },
    {
      "cell_type": "code",
      "source": [
        "#TODO: Complete os espaços em branco com uma possível solução para o problema.\n",
        "X, Y = map(int, input().split())\n",
        "while (X != Y):\n",
        "    floor = min(X, Y)\n",
        "    top = max(X, Y)\n",
        "    if (X < Y):\n",
        "        print(\"Crescente\")\n",
        "    elif (X > Y):\n",
        "        print(\"Decrescente\")\n",
        "    X, Y = map(int, input().split())"
      ],
      "metadata": {
        "colab": {
          "base_uri": "https://localhost:8080/"
        },
        "id": "6kELW-VcC0Fp",
        "outputId": "5f2f9826-e5a3-4751-d7e6-0e8532254b7a"
      },
      "execution_count": null,
      "outputs": [
        {
          "name": "stdout",
          "output_type": "stream",
          "text": [
            "5 4\n",
            "Decrescente\n",
            "7 2\n",
            "Decrescente\n",
            "3 8\n",
            "Crescente\n",
            "2 2\n"
          ]
        }
      ]
    },
    {
      "cell_type": "code",
      "source": [
        "#TODO: Complete os espaços em branco com uma possível solução para o problema.\n",
        "\n",
        "X = int(input())\n",
        "Y = int(input())\n",
        "if (Y > X):\n",
        "    for i in range(X + 1, Y):\n",
        "        if (i%5==2) or (i%5==3):\n",
        "            print(i)\n",
        "elif (X > Y):\n",
        "    for i in range(Y + 1, X):\n",
        "        if (i%5==2) or (i%5==3):\n",
        "            print(i)"
      ],
      "metadata": {
        "colab": {
          "base_uri": "https://localhost:8080/"
        },
        "id": "S3Ri3PLlD9_B",
        "outputId": "345d03ae-24dc-4375-8d37-5e5a38e541ef"
      },
      "execution_count": null,
      "outputs": [
        {
          "output_type": "stream",
          "name": "stdout",
          "text": [
            "35\n",
            "60\n",
            "37\n",
            "38\n",
            "42\n",
            "43\n",
            "47\n",
            "48\n",
            "52\n",
            "53\n",
            "57\n",
            "58\n"
          ]
        }
      ]
    },
    {
      "cell_type": "code",
      "source": [
        "#TODO: Complete os espaços em branco com uma solução possível\n",
        "n = int(input())\n",
        "for i in range(n):\n",
        "    num = int(input())\n",
        "    sum = 0\n",
        "\n",
        "    for j in range(1, (num+1)):\n",
        "        if num%j ==  0  :\n",
        "            sum +=  1      \n",
        "   \n",
        "    if sum != (2):\n",
        "        print(\"{} não eh primo\".format(num))\n",
        "\n",
        "    else:\n",
        "        print(\"{} eh primo\".format(num))"
      ],
      "metadata": {
        "colab": {
          "base_uri": "https://localhost:8080/"
        },
        "id": "tcLoarEYU0nC",
        "outputId": "35bf1d29-b3fc-451a-df96-a08ef7d40e02"
      },
      "execution_count": null,
      "outputs": [
        {
          "output_type": "stream",
          "name": "stdout",
          "text": [
            "3\n",
            "8\n",
            "8 não eh primo\n",
            "51\n",
            "51 não eh primo\n",
            "7\n",
            "7 eh primo\n"
          ]
        }
      ]
    },
    {
      "cell_type": "code",
      "source": [
        "x = int(input())\n",
        "n= list()\n",
        "\n",
        "#TODO: Complete os espaços em branco com uma solução possível para o problema.\n",
        "for i in range (10):\n",
        "    n.append(x)\n",
        "    x= x*2   \n",
        "    print(\"N[{}] = \".format(i), n[i])"
      ],
      "metadata": {
        "colab": {
          "base_uri": "https://localhost:8080/"
        },
        "id": "eF-a7hFqafBl",
        "outputId": "b3e1b696-3108-49f7-a7a9-38445adbb30a"
      },
      "execution_count": null,
      "outputs": [
        {
          "output_type": "stream",
          "name": "stdout",
          "text": [
            "1\n",
            "N[0] =  1\n",
            "N[1] =  2\n",
            "N[2] =  4\n",
            "N[3] =  8\n",
            "N[4] =  16\n",
            "N[5] =  32\n",
            "N[6] =  64\n",
            "N[7] =  128\n",
            "N[8] =  256\n",
            "N[9] =  512\n"
          ]
        }
      ]
    },
    {
      "cell_type": "code",
      "source": [
        "#TODO: Complete os espaços em branco com uma solução possível para o problema.\n",
        "n = int(input())\n",
        "for i in range(n):\n",
        "    x, y = input().split()\n",
        "    teste = 0\n",
        "    cont = 0\n",
        "    if  len(y)>len(x):\n",
        "        print(\"nao encaixa\")\n",
        " \n",
        "    else:\n",
        "        for j in range(len(y)):\n",
        "            teste -= 1\n",
        "            if x[teste] == y[teste]:\n",
        "                cont += 1\n",
        " \n",
        "        if  int(cont)==len(y):\n",
        "            print(\"encaixa\")\n",
        " \n",
        "        else:\n",
        "            print(\"nao encaixa\")"
      ],
      "metadata": {
        "colab": {
          "base_uri": "https://localhost:8080/"
        },
        "id": "Y7RxIs3ggysF",
        "outputId": "ccb27c81-d900-4e0e-93c6-b7ae1f34b1ef"
      },
      "execution_count": null,
      "outputs": [
        {
          "output_type": "stream",
          "name": "stdout",
          "text": [
            "4\n",
            "23875681374658 4658\n",
            "encaixa\n",
            "6528374658 568\n",
            "nao encaixa\n",
            "1243 1243\n",
            "encaixa\n",
            "54 464646464762876482\n",
            "nao encaixa\n"
          ]
        }
      ]
    }
  ]
}